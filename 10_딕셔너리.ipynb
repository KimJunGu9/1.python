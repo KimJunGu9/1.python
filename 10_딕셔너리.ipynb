{
  "nbformat": 4,
  "nbformat_minor": 0,
  "metadata": {
    "colab": {
      "provenance": [],
      "authorship_tag": "ABX9TyNQ70T/xLxDLHlw6YQBnrCp",
      "include_colab_link": true
    },
    "kernelspec": {
      "name": "python3",
      "display_name": "Python 3"
    },
    "language_info": {
      "name": "python"
    }
  },
  "cells": [
    {
      "cell_type": "markdown",
      "metadata": {
        "id": "view-in-github",
        "colab_type": "text"
      },
      "source": [
        "<a href=\"https://colab.research.google.com/github/KimJunGu9/1.python/blob/main/10_%EB%94%95%EC%85%94%EB%84%88%EB%A6%AC.ipynb\" target=\"_parent\"><img src=\"https://colab.research.google.com/assets/colab-badge.svg\" alt=\"Open In Colab\"/></a>"
      ]
    },
    {
      "cell_type": "markdown",
      "source": [
        "# **1. 딕셔너리(Dictionary)**"
      ],
      "metadata": {
        "id": "FUM6KEYchRvI"
      }
    },
    {
      "cell_type": "markdown",
      "source": [
        "* 대응관계를 나타내는 자료형으로 key와 value라는 것을 한 쌍으로 갖는 형태\n",
        "* 하나의 딕셔너리의 키값은 중복될 수 없음\n",
        "* 하나의 딕셔너리의 값은 중복될 수 있음"
      ],
      "metadata": {
        "id": "0GyC2zAzhTEt"
      }
    },
    {
      "cell_type": "markdown",
      "source": [
        "### **1-1. 딕셔너리 만들기**"
      ],
      "metadata": {
        "id": "CSHuAeIWhUpK"
      }
    },
    {
      "cell_type": "code",
      "source": [
        "\n",
        "dic1 = {}\n",
        "print(dic1)\n",
        "\n",
        "dic2 = {'no' : 1, 'userid' : 'apple', 'name' : '김사과', 'hp' : '010-1111-1111'}\n",
        "print(dic2)"
      ],
      "metadata": {
        "colab": {
          "base_uri": "https://localhost:8080/"
        },
        "id": "rH-ra1ohBmpa",
        "outputId": "dfbc0077-bb05-4d4e-9364-216e4fc7474b"
      },
      "execution_count": null,
      "outputs": [
        {
          "output_type": "stream",
          "name": "stdout",
          "text": [
            "{}\n",
            "{'no': 1, 'userid': 'apple', 'name': '김사과', 'hp': '010-1111-1111'}\n"
          ]
        }
      ]
    },
    {
      "cell_type": "markdown",
      "source": [
        "### **1-2. 키로 값 찾기**"
      ],
      "metadata": {
        "id": "xdZa5_dZhWU0"
      }
    },
    {
      "cell_type": "code",
      "source": [
        "\n",
        "dic2 = {'no' : 1, 'userid' : 'apple', 'name' : '김사과', 'hp' : '010-1111-1111'}\n",
        "print(dic2['no'])\n",
        "print(dic2['userid'])\n",
        "print(dic2['name'])\n",
        "print(dic2['hp'])"
      ],
      "metadata": {
        "colab": {
          "base_uri": "https://localhost:8080/"
        },
        "id": "El75wf-wCTwL",
        "outputId": "0ac3c397-076a-4727-8d09-67c3ca8adb81"
      },
      "execution_count": null,
      "outputs": [
        {
          "output_type": "stream",
          "name": "stdout",
          "text": [
            "1\n",
            "apple\n",
            "김사과\n",
            "010-1111-1111\n"
          ]
        }
      ]
    },
    {
      "cell_type": "markdown",
      "source": [
        "### **1-3. 데이터 추가 및 삭제**"
      ],
      "metadata": {
        "id": "UkTK5NydhYFm"
      }
    },
    {
      "cell_type": "code",
      "source": [
        "\n",
        "dic3 = {1:'apple'}\n",
        "print(dic3)\n",
        "\n",
        "dic3[100] = 'orange'\n",
        "print(dic3)\n",
        "\n",
        "dic3[50] = 'banana'\n",
        "print(dic3)\n",
        "\n",
        "dic3[1] = 'melon'  # 키는 중복될 수 없으므로 값이 변경 됨\n",
        "print(dic3)\n",
        "\n",
        "del dic3[50]\n",
        "print(dic3)"
      ],
      "metadata": {
        "colab": {
          "base_uri": "https://localhost:8080/"
        },
        "id": "-huVohlxC1ZD",
        "outputId": "bc9de975-85aa-423b-ee19-1a83398f4a08"
      },
      "execution_count": null,
      "outputs": [
        {
          "output_type": "stream",
          "name": "stdout",
          "text": [
            "{1: 'apple'}\n",
            "{1: 'apple', 100: 'orange'}\n",
            "{1: 'apple', 100: 'orange', 50: 'banana'}\n",
            "{1: 'melon', 100: 'orange', 50: 'banana'}\n",
            "{1: 'melon', 100: 'orange'}\n"
          ]
        }
      ]
    },
    {
      "cell_type": "markdown",
      "source": [
        "### **1-4. 딕셔너리 함수**"
      ],
      "metadata": {
        "id": "tujGmuTyhaD6"
      }
    },
    {
      "cell_type": "code",
      "source": [
        "\n",
        "dic2 = {'no' : 1, 'userid' : 'apple', 'name' : '김사과', 'hp' : '010-1111-1111'}\n",
        "print()\n",
        "\n",
        "# keys() : key 리스트를 반환\n",
        "print(dic2.keys())\n",
        "print()\n",
        "\n",
        "# values() : value 리스트를 반환\n",
        "print(dic2.values())\n",
        "print()\n",
        "\n",
        "# items() : key와 value를 한 쌍으로 묶는 튜플을 리턴\n",
        "print(dic2.items())\n",
        "print()\n",
        "\n",
        "# get() : key를 이용해서 value를 반환\n",
        "print(dic2.get('name'))\n",
        "print(dic2.get('hp'))\n",
        "print(dic2['name']) # 리스트에서 인덱싱하는 방법으로도 할 수 있다.\n",
        "print(dic2.get('age')) # 없는 것을 찾으면 None 으로 나온다.\n",
        "print(dic2.get('age', '알수없음')) # 없는것을 찾으면 None대신 '알수없음'으로 나오게 만들 수 있다.\n",
        "print()\n",
        "\n",
        "# in : key가 딕셔너리 안에 있는 지 확인\n",
        "print('name' in dic2) # True\n",
        "print('age' in dic2) #False"
      ],
      "metadata": {
        "colab": {
          "base_uri": "https://localhost:8080/"
        },
        "id": "rmqZ3fvjD-J5",
        "outputId": "98e0d268-019d-4df6-e252-c7676c4c1c4d"
      },
      "execution_count": null,
      "outputs": [
        {
          "output_type": "stream",
          "name": "stdout",
          "text": [
            "\n",
            "dict_keys(['no', 'userid', 'name', 'hp'])\n",
            "\n",
            "dict_values([1, 'apple', '김사과', '010-1111-1111'])\n",
            "\n",
            "dict_items([('no', 1), ('userid', 'apple'), ('name', '김사과'), ('hp', '010-1111-1111')])\n",
            "\n",
            "김사과\n",
            "010-1111-1111\n",
            "김사과\n",
            "None\n",
            "알수없음\n",
            "\n",
            "True\n",
            "False\n"
          ]
        }
      ]
    },
    {
      "cell_type": "markdown",
      "source": [
        "### **1-5. 딕셔너리와 for**"
      ],
      "metadata": {
        "id": "boxndGhphcKq"
      }
    },
    {
      "cell_type": "code",
      "source": [
        "\n",
        "dic2 = {'no' : 1, 'userid' : 'apple', 'name' : '김사과', 'hp' : '010-1111-1111'}\n",
        "\n",
        "for i in dic2:\n",
        "  print(i, end=' ')\n",
        "\n",
        "print()\n",
        "\n",
        "for i in dic2.keys():\n",
        "  print(i, end=' ')\n",
        "\n",
        "print()\n",
        "\n",
        "for i in dic2.values():\n",
        "  print(i, end=' ')\n",
        "\n",
        "print()\n",
        "\n",
        "for i in dic2:\n",
        "  print(dic2[i], end=' ')\n",
        "\n",
        "print()\n",
        "\n",
        "for i in dic2.keys():\n",
        "  print(dic2.get(i),end=' ')"
      ],
      "metadata": {
        "colab": {
          "base_uri": "https://localhost:8080/"
        },
        "id": "LReEI9hxFmCY",
        "outputId": "916e852b-51b3-4367-ae11-b93997170aca"
      },
      "execution_count": null,
      "outputs": [
        {
          "output_type": "stream",
          "name": "stdout",
          "text": [
            "no userid name hp \n",
            "no userid name hp \n",
            "1 apple 김사과 010-1111-1111 \n",
            "1 apple 김사과 010-1111-1111 \n",
            "1 apple 김사과 010-1111-1111 "
          ]
        }
      ]
    },
    {
      "cell_type": "markdown",
      "source": [
        "### **문제.**\n",
        "아래와 같은 딕셔너리 자료에서 주민등록번호를 추출하여 성별을 알아내는 프로그램을 작성해보자.  \n",
        "(단, ssn의 7번째 자리의 성별은 1,3은 '남자' 2, 4는 '여자'라고 한다)\n",
        "\n",
        "> user = {\"name\":\"김사과\", \"hp\":\"010-1111-1111\", \"ssn\":\"0010114068518\"}"
      ],
      "metadata": {
        "id": "mnwvOaLPhf2W"
      }
    },
    {
      "cell_type": "code",
      "source": [
        "\n",
        "user = {'name' : '김사과', 'hp' : '010-1111-1111', 'ssn' : '0010114068518'}\n",
        "\n",
        "print(user['ssn'])\n",
        "\n",
        "ssn = 0\n",
        "\n",
        "if ssn[7] == '1' or ssn[7] == '3':\n",
        "  print('남자')\n",
        "else :\n",
        "  print('여자')"
      ],
      "metadata": {
        "colab": {
          "base_uri": "https://localhost:8080/",
          "height": 264
        },
        "id": "LYx3ibziVLDn",
        "outputId": "c18b75f8-867a-4026-9a12-a49471a06b67"
      },
      "execution_count": null,
      "outputs": [
        {
          "output_type": "stream",
          "name": "stdout",
          "text": [
            "0010114068518\n"
          ]
        },
        {
          "output_type": "error",
          "ename": "TypeError",
          "evalue": "ignored",
          "traceback": [
            "\u001b[0;31m---------------------------------------------------------------------------\u001b[0m",
            "\u001b[0;31mTypeError\u001b[0m                                 Traceback (most recent call last)",
            "\u001b[0;32m<ipython-input-32-bb32fcbadcbf>\u001b[0m in \u001b[0;36m<module>\u001b[0;34m()\u001b[0m\n\u001b[1;32m     10\u001b[0m \u001b[0mssn\u001b[0m \u001b[0;34m=\u001b[0m \u001b[0;36m0\u001b[0m\u001b[0;34m\u001b[0m\u001b[0;34m\u001b[0m\u001b[0m\n\u001b[1;32m     11\u001b[0m \u001b[0;34m\u001b[0m\u001b[0m\n\u001b[0;32m---> 12\u001b[0;31m \u001b[0;32mif\u001b[0m \u001b[0mssn\u001b[0m\u001b[0;34m[\u001b[0m\u001b[0;36m7\u001b[0m\u001b[0;34m]\u001b[0m \u001b[0;34m==\u001b[0m \u001b[0mint\u001b[0m\u001b[0;34m(\u001b[0m\u001b[0;34m'1'\u001b[0m\u001b[0;34m)\u001b[0m \u001b[0;32mor\u001b[0m \u001b[0mssn\u001b[0m\u001b[0;34m[\u001b[0m\u001b[0;36m7\u001b[0m\u001b[0;34m]\u001b[0m \u001b[0;34m==\u001b[0m \u001b[0mint\u001b[0m\u001b[0;34m(\u001b[0m\u001b[0;34m'3'\u001b[0m\u001b[0;34m)\u001b[0m\u001b[0;34m:\u001b[0m\u001b[0;34m\u001b[0m\u001b[0;34m\u001b[0m\u001b[0m\n\u001b[0m\u001b[1;32m     13\u001b[0m   \u001b[0mprint\u001b[0m\u001b[0;34m(\u001b[0m\u001b[0;34m'남자'\u001b[0m\u001b[0;34m)\u001b[0m\u001b[0;34m\u001b[0m\u001b[0;34m\u001b[0m\u001b[0m\n\u001b[1;32m     14\u001b[0m \u001b[0;32melse\u001b[0m \u001b[0;34m:\u001b[0m\u001b[0;34m\u001b[0m\u001b[0;34m\u001b[0m\u001b[0m\n",
            "\u001b[0;31mTypeError\u001b[0m: 'int' object is not subscriptable"
          ]
        }
      ]
    },
    {
      "cell_type": "code",
      "source": [
        "user = {'name' : '김사과', 'hp' : '010-1111-1111', 'ssn' : '0010114068518'}\n",
        "\n",
        "for i in user.keys():\n",
        "  if i == 'ssn':\n",
        "    ssn = user.get(i) # '0010114068518'\n",
        "    if ssn[6] == '1' or ssn[6]  == '3':\n",
        "      print('남자')\n",
        "    elif ssn[6] == '2' or ssn[6] == '4':\n",
        "      print('여자')"
      ],
      "metadata": {
        "colab": {
          "base_uri": "https://localhost:8080/"
        },
        "id": "4_8UasRQXkh2",
        "outputId": "08225906-2e90-4c52-fc3b-20ae312a614d"
      },
      "execution_count": null,
      "outputs": [
        {
          "output_type": "stream",
          "name": "stdout",
          "text": [
            "여자\n"
          ]
        }
      ]
    },
    {
      "cell_type": "code",
      "source": [],
      "metadata": {
        "id": "t_IxJ5HUYLWQ"
      },
      "execution_count": null,
      "outputs": []
    }
  ]
}