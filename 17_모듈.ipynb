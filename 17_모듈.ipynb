{
  "nbformat": 4,
  "nbformat_minor": 0,
  "metadata": {
    "colab": {
      "provenance": [],
      "authorship_tag": "ABX9TyMm/D/L9dc7PlJXJ0HXDOAK",
      "include_colab_link": true
    },
    "kernelspec": {
      "name": "python3",
      "display_name": "Python 3"
    },
    "language_info": {
      "name": "python"
    }
  },
  "cells": [
    {
      "cell_type": "markdown",
      "metadata": {
        "id": "view-in-github",
        "colab_type": "text"
      },
      "source": [
        "<a href=\"https://colab.research.google.com/github/KimJunGu9/1.python/blob/main/17_%EB%AA%A8%EB%93%88.ipynb\" target=\"_parent\"><img src=\"https://colab.research.google.com/assets/colab-badge.svg\" alt=\"Open In Colab\"/></a>"
      ]
    },
    {
      "cell_type": "markdown",
      "source": [
        "# **1. 모듈**"
      ],
      "metadata": {
        "id": "uQz2ycUYSU0b"
      }
    },
    {
      "cell_type": "markdown",
      "source": [
        "* 모든 파이썬 파일(.py)은 모듈\n",
        "* 클래스 또는 함수를 모아 놓은 파일\n",
        "\n",
        "```\n",
        "# 모듈 전체 가져오기\n",
        "import 모듈명\n",
        "# 사용\n",
        "모듈명.함수명()\n",
        "\n",
        "# 특정 함수만 골라서 가져오기\n",
        "from 모듈명 import 함수1, 함수2 ..\n",
        "from 모듈명 import *\n",
        "# 사용\n",
        "함수명()\n",
        "\n",
        "# 모듈 별명 붙이기\n",
        "import 모듈명 as 별명\n",
        "# 사용\n",
        "별명.함수명()\n",
        "```"
      ],
      "metadata": {
        "id": "5mwIz6azSVtu"
      }
    },
    {
      "cell_type": "code",
      "source": [
        "import myutil"
      ],
      "metadata": {
        "id": "RznCK6O74WBQ"
      },
      "execution_count": null,
      "outputs": []
    },
    {
      "cell_type": "code",
      "source": [
        "tot = myutil.sum(1, 10)\n",
        "print(tot)"
      ],
      "metadata": {
        "colab": {
          "base_uri": "https://localhost:8080/"
        },
        "id": "b_eggvsD4Yhu",
        "outputId": "cbd4f8b9-a155-435e-c665-e5f06b1fd623"
      },
      "execution_count": null,
      "outputs": [
        {
          "output_type": "stream",
          "name": "stdout",
          "text": [
            "55\n"
          ]
        }
      ]
    },
    {
      "cell_type": "code",
      "source": [
        "from myutil import sum"
      ],
      "metadata": {
        "id": "1k4JCwKL4Zn5"
      },
      "execution_count": null,
      "outputs": []
    },
    {
      "cell_type": "code",
      "source": [
        "tot = sum(1, 10)\n",
        "print(tot)"
      ],
      "metadata": {
        "colab": {
          "base_uri": "https://localhost:8080/"
        },
        "id": "kbYRk-Jx4auC",
        "outputId": "167eb445-44c4-46cc-cfb5-86b2f514bd74"
      },
      "execution_count": null,
      "outputs": [
        {
          "output_type": "stream",
          "name": "stdout",
          "text": [
            "55\n"
          ]
        }
      ]
    },
    {
      "cell_type": "code",
      "source": [
        "import myutil as mu"
      ],
      "metadata": {
        "id": "XtLZW9Jy4bqk"
      },
      "execution_count": null,
      "outputs": []
    },
    {
      "cell_type": "code",
      "source": [
        "tot = mu.sum(1, 10)\n",
        "print(tot)"
      ],
      "metadata": {
        "colab": {
          "base_uri": "https://localhost:8080/"
        },
        "id": "pthtcXDo4ceH",
        "outputId": "a88976ee-8ab0-4880-a6dc-9239c7f0a8c4"
      },
      "execution_count": null,
      "outputs": [
        {
          "output_type": "stream",
          "name": "stdout",
          "text": [
            "55\n"
          ]
        }
      ]
    },
    {
      "cell_type": "markdown",
      "source": [
        "# **2. 패키지**"
      ],
      "metadata": {
        "id": "8pFtXhbBScrw"
      }
    },
    {
      "cell_type": "markdown",
      "source": [
        "### **2-1. 패키지란**\n",
        "* 모듈의 상위개념\n",
        "* 모듈이 모여있는 디렉토리"
      ],
      "metadata": {
        "id": "DZIWYqiUSduo"
      }
    },
    {
      "cell_type": "markdown",
      "source": [
        "### **2-2. 패키지 관리자**\n",
        "* 외부 모듈을 설치 또는 삭제하기 위한 프로그램\n",
        "* pip 명령을 사용(파이썬 3.4이후 파이썬을 설치하면 pip가 함께 설치됨)\n",
        "* 윈도우 명령프롬프트 또는 터미널에서 사용\n",
        "\n",
        "```\n",
        "pip --help # pip 명령어 확인\n",
        "pip install 패키지명 # 설치\n",
        "pip uninstall 패키지명 # 삭제\n",
        "```"
      ],
      "metadata": {
        "id": "o59EFmD9Se5_"
      }
    }
  ]
}