{
  "nbformat": 4,
  "nbformat_minor": 0,
  "metadata": {
    "colab": {
      "provenance": [],
      "authorship_tag": "ABX9TyPF8ZUF+a2sjsRvb8lz/jOr",
      "include_colab_link": true
    },
    "kernelspec": {
      "name": "python3",
      "display_name": "Python 3"
    },
    "language_info": {
      "name": "python"
    }
  },
  "cells": [
    {
      "cell_type": "markdown",
      "metadata": {
        "id": "view-in-github",
        "colab_type": "text"
      },
      "source": [
        "<a href=\"https://colab.research.google.com/github/KimJunGu9/1.python/blob/main/18_%EC%98%88%EC%99%B8%EC%B2%98%EB%A6%AC.ipynb\" target=\"_parent\"><img src=\"https://colab.research.google.com/assets/colab-badge.svg\" alt=\"Open In Colab\"/></a>"
      ]
    },
    {
      "cell_type": "markdown",
      "source": [
        "# **1. 예외처리**"
      ],
      "metadata": {
        "id": "HZDlU-ZLS6Gm"
      }
    },
    {
      "cell_type": "markdown",
      "source": [
        "* 오류가 발생되었을 때 별도의 처리를 하거나 무시하고 프로그램을 실행하는 것\n",
        "* 오류가 발생될 것으로 예상되는 문장을 try 블록에 코딩하고 try 블록에 코딩된 내용을 실행하다가 오류가 발생하면 더이상 try 블록의 내용을 실행하지 않고, 해당 오류의 except 블록에 코딩된 내용을 실행\n",
        "* 파이썬은 발생할 수 있는 모든 문제를 예외 클래스로 만들어 놓음\n",
        "* 모든 예외 클래스는 BaseException 클래스의 자식 클래스이며 BaseException 클래스의 자식 클래스 중 Exception 클래스는 모든 예외 클래스의 부모클래스\n",
        "\n",
        "```\n",
        "try:\n",
        "  오류가 발생될 것으로 예상되는 문장\n",
        "  ...\n",
        "  ...\n",
        "  except 오류클래스명1:\n",
        "    해당 오류가 발생하면 실행할 문장\n",
        "    ...\n",
        "  except 오류클래스명2:\n",
        "    해당 오류가 발생하면 실행할 문장\n",
        "    ...\n",
        "  else:\n",
        "    오류가 없을 경우 실행할 문장\n",
        "    ...\n",
        "  finally:\n",
        "    오류 발생 여부와 관계없이 무조건 실행할 문장\n",
        "    ...\n",
        "```"
      ],
      "metadata": {
        "id": "dNnDnskjS9Ps"
      }
    },
    {
      "cell_type": "code",
      "source": [
        "try:\n",
        "  print(10/2)\n",
        "  print(5/0)\n",
        "  print(4/2)\n",
        "except:\n",
        "  print('오류가 발생했습니다.')\n",
        "print('정상종료')"
      ],
      "metadata": {
        "colab": {
          "base_uri": "https://localhost:8080/"
        },
        "id": "3URhj6AgHUuu",
        "outputId": "032575ab-344a-4c67-8611-2d4fd87f100e"
      },
      "execution_count": null,
      "outputs": [
        {
          "output_type": "stream",
          "name": "stdout",
          "text": [
            "5.0\n",
            "오류가 발생했습니다.\n",
            "정상종료\n"
          ]
        }
      ]
    },
    {
      "cell_type": "code",
      "source": [
        "print(5/0)"
      ],
      "metadata": {
        "colab": {
          "base_uri": "https://localhost:8080/",
          "height": 173
        },
        "id": "4sd7Q8ubHrIk",
        "outputId": "85e95805-cbf4-43c6-9353-7336ebf23d55"
      },
      "execution_count": null,
      "outputs": [
        {
          "output_type": "error",
          "ename": "ZeroDivisionError",
          "evalue": "ignored",
          "traceback": [
            "\u001b[0;31m---------------------------------------------------------------------------\u001b[0m",
            "\u001b[0;31mZeroDivisionError\u001b[0m                         Traceback (most recent call last)",
            "\u001b[0;32m<ipython-input-2-fad870a50e27>\u001b[0m in \u001b[0;36m<module>\u001b[0;34m()\u001b[0m\n\u001b[0;32m----> 1\u001b[0;31m \u001b[0mprint\u001b[0m\u001b[0;34m(\u001b[0m\u001b[0;36m5\u001b[0m\u001b[0;34m/\u001b[0m\u001b[0;36m0\u001b[0m\u001b[0;34m)\u001b[0m\u001b[0;34m\u001b[0m\u001b[0;34m\u001b[0m\u001b[0m\n\u001b[0m",
            "\u001b[0;31mZeroDivisionError\u001b[0m: division by zero"
          ]
        }
      ]
    },
    {
      "cell_type": "code",
      "source": [
        "try:\n",
        "  print(10/2)\n",
        "  print(5/0)\n",
        "  print(4/2)\n",
        "except ZeroDivisionError:\n",
        "  print('0으로 나눌 수 없습니다.')\n",
        "print('정상종료')"
      ],
      "metadata": {
        "colab": {
          "base_uri": "https://localhost:8080/"
        },
        "id": "-T16cOl9Ho5A",
        "outputId": "515dc36d-548b-4d21-ba46-ff310071536d"
      },
      "execution_count": null,
      "outputs": [
        {
          "output_type": "stream",
          "name": "stdout",
          "text": [
            "5.0\n",
            "0으로 나눌 수 없습니다.\n",
            "정상종료\n"
          ]
        }
      ]
    },
    {
      "cell_type": "code",
      "source": [
        "data = [10,20,30]\n",
        "print(data[3])"
      ],
      "metadata": {
        "colab": {
          "base_uri": "https://localhost:8080/",
          "height": 191
        },
        "id": "GzadfKRgH2hM",
        "outputId": "3de7aadb-5a60-44fc-a882-22ec7be90223"
      },
      "execution_count": null,
      "outputs": [
        {
          "output_type": "error",
          "ename": "IndexError",
          "evalue": "ignored",
          "traceback": [
            "\u001b[0;31m---------------------------------------------------------------------------\u001b[0m",
            "\u001b[0;31mIndexError\u001b[0m                                Traceback (most recent call last)",
            "\u001b[0;32m<ipython-input-5-b2f4b4d9e820>\u001b[0m in \u001b[0;36m<module>\u001b[0;34m()\u001b[0m\n\u001b[1;32m      1\u001b[0m \u001b[0mdata\u001b[0m \u001b[0;34m=\u001b[0m \u001b[0;34m[\u001b[0m\u001b[0;36m10\u001b[0m\u001b[0;34m,\u001b[0m\u001b[0;36m20\u001b[0m\u001b[0;34m,\u001b[0m\u001b[0;36m30\u001b[0m\u001b[0;34m]\u001b[0m\u001b[0;34m\u001b[0m\u001b[0;34m\u001b[0m\u001b[0m\n\u001b[0;32m----> 2\u001b[0;31m \u001b[0mprint\u001b[0m\u001b[0;34m(\u001b[0m\u001b[0mdata\u001b[0m\u001b[0;34m[\u001b[0m\u001b[0;36m3\u001b[0m\u001b[0;34m]\u001b[0m\u001b[0;34m)\u001b[0m\u001b[0;34m\u001b[0m\u001b[0;34m\u001b[0m\u001b[0m\n\u001b[0m",
            "\u001b[0;31mIndexError\u001b[0m: list index out of range"
          ]
        }
      ]
    },
    {
      "cell_type": "code",
      "source": [
        "data = [10,20,30]\n",
        "try:\n",
        "  print(data[2])\n",
        "  print(data[3])\n",
        "  print(data[0])\n",
        "except ZeroDivisionError:\n",
        "  print('0으로 나눌 수 없습니다.')\n",
        "except IndexError:\n",
        "  print('인덱스 지정이 올바르지 않습니다.')\n",
        "print('정상종료')"
      ],
      "metadata": {
        "colab": {
          "base_uri": "https://localhost:8080/"
        },
        "id": "Ri3QHLlRH6X5",
        "outputId": "f54869c2-f2cc-4721-ed46-72d743bfb54c"
      },
      "execution_count": null,
      "outputs": [
        {
          "output_type": "stream",
          "name": "stdout",
          "text": [
            "30\n",
            "인덱스 지정이 올바르지 않습니다.\n",
            "정상종료\n"
          ]
        }
      ]
    },
    {
      "cell_type": "code",
      "source": [
        "data = [10,20,30]\n",
        "str = '오늘은 파이썬 예외 처리 시간'\n",
        "try:\n",
        "  # print(4/0)\n",
        "  # print(data[3])\n",
        "  print('%d' % str)\n",
        "except ZeroDivisionError:\n",
        "  print('0으로 나눌 수 없습니다')\n",
        "except IndexError:\n",
        "  print('인덱스 지정이 올바르지 않습니다.')\n",
        "except TypeError:\n",
        "  print('데이터 타입이 올바르지 않습니다.')\n",
        "except:\n",
        "  print('일반적인 오류')\n",
        "finally:\n",
        "  print('오류에 관계없이 무조건 실행되는 문장')\n",
        "print('정상종료')"
      ],
      "metadata": {
        "colab": {
          "base_uri": "https://localhost:8080/"
        },
        "id": "S89sLqDcJdJw",
        "outputId": "5d19bc76-984d-46aa-b3f5-0c0396dfc60b"
      },
      "execution_count": null,
      "outputs": [
        {
          "output_type": "stream",
          "name": "stdout",
          "text": [
            "데이터 타입이 올바르지 않습니다.\n",
            "오류에 관계없이 무조건 실행되는 문장\n",
            "정상종료\n"
          ]
        }
      ]
    },
    {
      "cell_type": "code",
      "source": [
        "data = ['11','1','111','50','1234']\n",
        "data.sort()\n",
        "print(data)\n",
        "data.sort(reverse=True)\n",
        "print(data)"
      ],
      "metadata": {
        "colab": {
          "base_uri": "https://localhost:8080/"
        },
        "id": "bLysNkS1JuN8",
        "outputId": "091d05ca-1be4-4f43-834e-e036d067da97"
      },
      "execution_count": null,
      "outputs": [
        {
          "output_type": "stream",
          "name": "stdout",
          "text": [
            "['1', '11', '111', '1234', '50']\n",
            "['50', '1234', '111', '11', '1']\n"
          ]
        }
      ]
    },
    {
      "cell_type": "code",
      "source": [
        "data = [11,1,111,50,1234]\n",
        "data.sort()\n",
        "print(data)\n",
        "data.sort(reverse=True)\n",
        "print(data)"
      ],
      "metadata": {
        "colab": {
          "base_uri": "https://localhost:8080/"
        },
        "id": "tl5fKihZKoVd",
        "outputId": "9baa2da2-2455-4223-89c2-1e789195646c"
      },
      "execution_count": null,
      "outputs": [
        {
          "output_type": "stream",
          "name": "stdout",
          "text": [
            "[1, 11, 50, 111, 1234]\n",
            "[1234, 111, 50, 11, 1]\n"
          ]
        }
      ]
    },
    {
      "cell_type": "code",
      "source": [
        "data = ['11',1,'111',50,'1234']\n",
        "data.sort()\n",
        "print(data)\n",
        "data.sort(reverse=True)\n",
        "print(data)"
      ],
      "metadata": {
        "colab": {
          "base_uri": "https://localhost:8080/",
          "height": 246
        },
        "id": "1a64zWKuK2Nq",
        "outputId": "ab28b6af-fa5d-416f-8144-72e7bae6b506"
      },
      "execution_count": null,
      "outputs": [
        {
          "output_type": "error",
          "ename": "TypeError",
          "evalue": "ignored",
          "traceback": [
            "\u001b[0;31m---------------------------------------------------------------------------\u001b[0m",
            "\u001b[0;31mTypeError\u001b[0m                                 Traceback (most recent call last)",
            "\u001b[0;32m<ipython-input-20-8986aafa66ed>\u001b[0m in \u001b[0;36m<module>\u001b[0;34m()\u001b[0m\n\u001b[1;32m      1\u001b[0m \u001b[0mdata\u001b[0m \u001b[0;34m=\u001b[0m \u001b[0;34m[\u001b[0m\u001b[0;34m'11'\u001b[0m\u001b[0;34m,\u001b[0m\u001b[0;36m1\u001b[0m\u001b[0;34m,\u001b[0m\u001b[0;34m'111'\u001b[0m\u001b[0;34m,\u001b[0m\u001b[0;36m50\u001b[0m\u001b[0;34m,\u001b[0m\u001b[0;34m'1234'\u001b[0m\u001b[0;34m]\u001b[0m\u001b[0;34m\u001b[0m\u001b[0;34m\u001b[0m\u001b[0m\n\u001b[0;32m----> 2\u001b[0;31m \u001b[0mdata\u001b[0m\u001b[0;34m.\u001b[0m\u001b[0msort\u001b[0m\u001b[0;34m(\u001b[0m\u001b[0;34m)\u001b[0m\u001b[0;34m\u001b[0m\u001b[0;34m\u001b[0m\u001b[0m\n\u001b[0m\u001b[1;32m      3\u001b[0m \u001b[0mprint\u001b[0m\u001b[0;34m(\u001b[0m\u001b[0mdata\u001b[0m\u001b[0;34m)\u001b[0m\u001b[0;34m\u001b[0m\u001b[0;34m\u001b[0m\u001b[0m\n\u001b[1;32m      4\u001b[0m \u001b[0mdata\u001b[0m\u001b[0;34m.\u001b[0m\u001b[0msort\u001b[0m\u001b[0;34m(\u001b[0m\u001b[0mreverse\u001b[0m\u001b[0;34m=\u001b[0m\u001b[0;32mTrue\u001b[0m\u001b[0;34m)\u001b[0m\u001b[0;34m\u001b[0m\u001b[0;34m\u001b[0m\u001b[0m\n\u001b[1;32m      5\u001b[0m \u001b[0mprint\u001b[0m\u001b[0;34m(\u001b[0m\u001b[0mdata\u001b[0m\u001b[0;34m)\u001b[0m\u001b[0;34m\u001b[0m\u001b[0;34m\u001b[0m\u001b[0m\n",
            "\u001b[0;31mTypeError\u001b[0m: '<' not supported between instances of 'int' and 'str'"
          ]
        }
      ]
    },
    {
      "cell_type": "code",
      "source": [
        "# 숫자와 문자를 섞어 입력하면 숫자  + 문자 형식의 오름차순으로 정렬하여 출력하는 프로그램을 작성\n",
        "# 정렬할 데이터르 입력하세요(999가 입력되면 정렬을 시작합니다.) : abc\n",
        "# 정렬할 데이터르 입력하세요(999가 입력되면 정렬을 시작합니다.) : 123\n",
        "# 정렬할 데이터르 입력하세요(999가 입력되면 정렬을 시작합니다.) : 1\n",
        "# 정렬할 데이터르 입력하세요(999가 입력되면 정렬을 시작합니다.) : bbb\n",
        "# 정렬할 데이터르 입력하세요(999가 입력되면 정렬을 시작합니다.) : 999\n",
        "# [1, 123, 'abc', 'bbb]\n",
        "\n",
        "number = []\n",
        "char = []\n",
        "\n",
        "while True:\n",
        "  var = input('정렬할 데이터르 입력하세요(999가 입력되면 정렬을 시작합니다.) : ')\n",
        "  if var =='999':\n",
        "    break\n",
        "  try:\n",
        "    number.append(int(var))\n",
        "  except:\n",
        "    char.append(var)\n",
        "\n",
        "number.sort()\n",
        "char.sort()\n",
        "print(number + char1b99)"
      ],
      "metadata": {
        "id": "Zq38f1iTLA_H",
        "colab": {
          "base_uri": "https://localhost:8080/"
        },
        "outputId": "cea690f0-6ecb-4486-98b4-d79933190826"
      },
      "execution_count": null,
      "outputs": [
        {
          "output_type": "stream",
          "name": "stdout",
          "text": [
            "정렬할 데이터르 입력하세요(999가 입력되면 정렬을 시작합니다.) : abc\n",
            "정렬할 데이터르 입력하세요(999가 입력되면 정렬을 시작합니다.) : 23\n",
            "정렬할 데이터르 입력하세요(999가 입력되면 정렬을 시작합니다.) : 1\n",
            "정렬할 데이터르 입력하세요(999가 입력되면 정렬을 시작합니다.) : bb\n",
            "정렬할 데이터르 입력하세요(999가 입력되면 정렬을 시작합니다.) : 9\n",
            "정렬할 데이터르 입력하세요(999가 입력되면 정렬을 시작합니다.) : 999\n",
            "[1, 9, 23, 'abc', 'bb']\n"
          ]
        }
      ]
    },
    {
      "cell_type": "code",
      "source": [],
      "metadata": {
        "id": "kvFQcLQ7yziv"
      },
      "execution_count": null,
      "outputs": []
    }
  ]
}