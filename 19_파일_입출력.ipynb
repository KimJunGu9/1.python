{
  "nbformat": 4,
  "nbformat_minor": 0,
  "metadata": {
    "colab": {
      "provenance": [],
      "authorship_tag": "ABX9TyPRitBZMeWSod30PnOYX1qZ",
      "include_colab_link": true
    },
    "kernelspec": {
      "name": "python3",
      "display_name": "Python 3"
    },
    "language_info": {
      "name": "python"
    }
  },
  "cells": [
    {
      "cell_type": "markdown",
      "metadata": {
        "id": "view-in-github",
        "colab_type": "text"
      },
      "source": [
        "<a href=\"https://colab.research.google.com/github/KimJunGu9/1.python/blob/main/19_%ED%8C%8C%EC%9D%BC_%EC%9E%85%EC%B6%9C%EB%A0%A5.ipynb\" target=\"_parent\"><img src=\"https://colab.research.google.com/assets/colab-badge.svg\" alt=\"Open In Colab\"/></a>"
      ]
    },
    {
      "cell_type": "markdown",
      "source": [
        "# **1. 파일 열기**"
      ],
      "metadata": {
        "id": "qmtteZf7IUmA"
      }
    },
    {
      "cell_type": "markdown",
      "source": [
        "```\n",
        "파일변수 = open('텍스트 파일 이름', '파일 열기 모드')\n",
        "```\n",
        "* 파일 열기 모드 : w(출력), a(추가출력), r(입력)\n",
        "* w는 지정된 경로에 파일이 없으면 파일을 만든 후 저장하고, 파일이 있으면 기존의 모든 데이터를 지우고 다시 저장\n",
        "* a는 지정된 경로에 파일이 없으면 파일을 만든 후 저장하고, 파일이 있으면 기존의 데이터 뒤에 저장\n",
        "* r은 지정된 경로에 파일이 없으면 에러\n",
        "* 출력시(w, a) 작업이 완료되면 반드시 close() 메소드를 사용해서 파일을 닫아야 정상적으로 데이터가 저장되고, 입력시 파일을 닫지 않아도 정상적으로 처리됨\n",
        "* 파일의 종류 구분 : t(text), b(binary)\n",
        "```\n",
        "file = open('data.txt', 'r') # 열기모드\n",
        "file = open('data.txt', 'rt') # 텍스트파일 열기모드\n",
        "```\n"
      ],
      "metadata": {
        "id": "vpsfEEzAIXPz"
      }
    },
    {
      "cell_type": "code",
      "source": [
        "file = open('data.txt', 'wt')\n",
        "\n",
        "for i in range(10):\n",
        "  file.write('파일 열기 테스트 : ' + str(i) + '\\n') # 파일 열기 테스트 1\n",
        "file.close()\n",
        "print('data.txt 파일에 쓰기 완료')"
      ],
      "metadata": {
        "colab": {
          "base_uri": "https://localhost:8080/"
        },
        "id": "kG1VklIm0kuk",
        "outputId": "fc75288f-9062-456f-83bc-b0935cf2d5a8"
      },
      "execution_count": null,
      "outputs": [
        {
          "output_type": "stream",
          "name": "stdout",
          "text": [
            "data.txt 파일에 쓰기 완료\n"
          ]
        }
      ]
    },
    {
      "cell_type": "markdown",
      "source": [
        "* 절대 경로 : 디스크 드라이브의 최상위(root) 디렉토리부터 텍스트 파일이 저장될 디렉토리까지의 경로\n",
        "  * d:\\ryuzy\\python\\data.txt\n",
        "* 상대 경로 : 현재 화면에 표시되는 소스 파일이 위치한 디렉토리부터 텍스트 파일이 저장될 디렉토리까지의 경로\n",
        "  * data.txt(같은 디렉토리)\n",
        "  * ../data.txt(상위 디렉토리)\n",
        "  * ./test/data.txt(하위 디렉토리)"
      ],
      "metadata": {
        "id": "k4KzWieuIa7O"
      }
    },
    {
      "cell_type": "code",
      "source": [
        "file = open('./test/data.txt', 'wt')\n",
        "\n",
        "for i in range(10):\n",
        "  file.write('하위 파일 열기 테스트 : ' + str(i) + '\\n') # 파일 열기 테스트 1\n",
        "file.close()\n",
        "print('./test/data.txt 파일에 쓰기 완료')"
      ],
      "metadata": {
        "colab": {
          "base_uri": "https://localhost:8080/"
        },
        "id": "5OdBrm623xFA",
        "outputId": "29df24c4-8850-41ff-8225-c40d528117d4"
      },
      "execution_count": null,
      "outputs": [
        {
          "output_type": "stream",
          "name": "stdout",
          "text": [
            "./test/data.txt 파일에 쓰기 완료\n"
          ]
        }
      ]
    },
    {
      "cell_type": "markdown",
      "source": [
        "# **2. 파일 읽기**"
      ],
      "metadata": {
        "id": "ky6e8TBDIcgl"
      }
    },
    {
      "cell_type": "code",
      "source": [
        "\n",
        "# read() : 파일로부터 데이터를 읽어옴, 텍스트 모드와 바이너리 모드에서 다른 방식으로 동작\n",
        "# file.read(size) 또는 file.read()\n",
        "# 텍스트의 경우 문자수(한글은 2바이트), 바이너리의 경우 바이트수\n",
        "\n",
        "file = open('./test/input.txt', 'rt')\n",
        "str = file.read()\n",
        "print('data.txt 파일 읽기 완료')\n",
        "\n",
        "print(str)"
      ],
      "metadata": {
        "colab": {
          "base_uri": "https://localhost:8080/"
        },
        "id": "5VE4Swmy357_",
        "outputId": "0e124464-5655-4fe1-9be4-890a1ccf8536"
      },
      "execution_count": null,
      "outputs": [
        {
          "output_type": "stream",
          "name": "stdout",
          "text": [
            "data.txt 파일 읽기 완료\n",
            "안녕하세요. 파이썬 파일 읽기 테스트입니다.\n",
            "목요일은 어린이 날 신나네요.\n"
          ]
        }
      ]
    },
    {
      "cell_type": "code",
      "source": [
        "file = open('./test/input.txt', 'rt')\n",
        "str = file.read(8)\n",
        "print('data.txt 파일 읽기 완료')\n",
        "\n",
        "print(str)"
      ],
      "metadata": {
        "colab": {
          "base_uri": "https://localhost:8080/"
        },
        "id": "ne1dpR165cxV",
        "outputId": "6a4f0aa6-02d9-4c6a-c9a0-35c91aae0ca3"
      },
      "execution_count": null,
      "outputs": [
        {
          "output_type": "stream",
          "name": "stdout",
          "text": [
            "data.txt 파일 읽기 완료\n",
            "안녕하세요. 파\n"
          ]
        }
      ]
    },
    {
      "cell_type": "code",
      "source": [
        "file = open('./test/input.txt', 'rt')\n",
        "while True:\n",
        "  str = file.read(5)\n",
        "  if not str: # 데이터를 읽어오다 파일이 종료되어 더 이상 읽을 수 없으면 빈 문자열('')을 읽음\n",
        "    break\n",
        "  print(str, end='')"
      ],
      "metadata": {
        "colab": {
          "base_uri": "https://localhost:8080/"
        },
        "id": "VKhXL87X5m1n",
        "outputId": "d49f5fc5-02bb-490b-da15-14511989546c"
      },
      "execution_count": null,
      "outputs": [
        {
          "output_type": "stream",
          "name": "stdout",
          "text": [
            "안녕하세요. 파이썬 파일 읽기 테스트입니다.\n",
            "목요일은 어린이 날 신나네요."
          ]
        }
      ]
    },
    {
      "cell_type": "markdown",
      "source": [
        "### **문제.**\n",
        "키보드로 입력하는 문자열을 텍스트 파일에 저장하기  \n",
        "(단, 'quit'가 입력되면 저장을 끝내고 프로그램을 종료)"
      ],
      "metadata": {
        "id": "JfM_in9LIew5"
      }
    },
    {
      "cell_type": "code",
      "source": [
        "\n",
        "file = open('./test/output.txt', 'w')\n",
        "while True:\n",
        "  str = input('>> ')\n",
        "  if str.lower() == 'quit':\n",
        "    break\n",
        "  file.write(str + '\\n')\n",
        "file.close()\n",
        "print('output.txt 파일 저장 완료c')"
      ],
      "metadata": {
        "colab": {
          "base_uri": "https://localhost:8080/"
        },
        "id": "oEFdQaA06Fhl",
        "outputId": "749a43e6-9777-42e2-f102-e06de65db95e"
      },
      "execution_count": null,
      "outputs": [
        {
          "output_type": "stream",
          "name": "stdout",
          "text": [
            ">> apple\n",
            ">> banana\n",
            ">> orange\n",
            ">> melon\n",
            ">> cherry\n",
            ">> quit\n",
            "output.txt 파일 저장 완료\n"
          ]
        }
      ]
    },
    {
      "cell_type": "code",
      "source": [
        "# with 문\n",
        "\n",
        "# 예외처리 및 close()메소드를 자동으로 처리함\n",
        "\n",
        "with open('./test/output.txt', 'w') as file:\n",
        "  while True:\n",
        "    str = input('>> ')\n",
        "    if str.lower() == 'quit':\n",
        "      break\n",
        "    file.write(str + '\\n')\n",
        "print('output.txt 파일 저장 완료c')"
      ],
      "metadata": {
        "colab": {
          "base_uri": "https://localhost:8080/"
        },
        "id": "JNmYDwZz7YTw",
        "outputId": "c28c53db-8865-4cd8-be14-52cfcf12100f"
      },
      "execution_count": null,
      "outputs": [
        {
          "output_type": "stream",
          "name": "stdout",
          "text": [
            ">> 123\n",
            ">> 456\n",
            ">> 789\n",
            ">> quit\n",
            "output.txt 파일 저장 완료c\n"
          ]
        }
      ]
    },
    {
      "cell_type": "code",
      "source": [
        "# readline() : 텍스트 파일을 한 줄씩 읽어서 처리. 파일이 종료되어 더이상 읽을 수 없다면 빈 문자열('')을 읽음\n",
        "\n",
        "file = open('./test/input.txt', 'rt')\n",
        "lines = []\n",
        "\n",
        "while True:\n",
        "  line = file.readline()\n",
        "  if not line:\n",
        "    break\n",
        "  if len(line.strip()) != 0:\n",
        "    print(line, end='')\n",
        "    lines.append(line.strip())\n",
        "file.close()\n",
        "print()\n",
        "print('input.txt 파일 읽기 완료')\n",
        "print(lines)"
      ],
      "metadata": {
        "colab": {
          "base_uri": "https://localhost:8080/"
        },
        "id": "AqIaVNWR8mWO",
        "outputId": "98cf0dc0-bff6-40d7-eb3d-c4c89f8c6d77"
      },
      "execution_count": null,
      "outputs": [
        {
          "output_type": "stream",
          "name": "stdout",
          "text": [
            "안녕하세요. 파이썬 파일 읽기 테스트입니다.\n",
            "목요일은 어린이 날 신나네요.\n",
            "input.txt 파일 읽기 완료\n",
            "['안녕하세요. 파이썬 파일 읽기 테스트입니다.', '목요일은 어린이 날 신나네요.']\n"
          ]
        }
      ]
    },
    {
      "cell_type": "code",
      "source": [
        "# readlines()\n",
        "# 전체 라인을 모두 읽어서 각 라인단위로 리스트에 저장\n",
        "\n",
        "file = open('./test/input.txt', 'rt')\n",
        "lines = file.readlines()\n",
        "print(type(lines))\n",
        "print(lines)"
      ],
      "metadata": {
        "colab": {
          "base_uri": "https://localhost:8080/"
        },
        "id": "FvpSsaIR9MxU",
        "outputId": "d18727bb-176f-498b-c8c7-47d7083d8885"
      },
      "execution_count": null,
      "outputs": [
        {
          "output_type": "stream",
          "name": "stdout",
          "text": [
            "<class 'list'>\n",
            "['안녕하세요. 파이썬 파일 읽기 테스트입니다.\\n', '목요일은 어린이 날 신나네요.']\n"
          ]
        }
      ]
    }
  ]
}