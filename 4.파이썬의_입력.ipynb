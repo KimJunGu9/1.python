{
  "nbformat": 4,
  "nbformat_minor": 0,
  "metadata": {
    "colab": {
      "provenance": [],
      "authorship_tag": "ABX9TyP1k6jqP1HCyEoZaciJMJfU",
      "include_colab_link": true
    },
    "kernelspec": {
      "name": "python3",
      "display_name": "Python 3"
    },
    "language_info": {
      "name": "python"
    }
  },
  "cells": [
    {
      "cell_type": "markdown",
      "metadata": {
        "id": "view-in-github",
        "colab_type": "text"
      },
      "source": [
        "<a href=\"https://colab.research.google.com/github/KimJunGu9/1.python/blob/main/4.%ED%8C%8C%EC%9D%B4%EC%8D%AC%EC%9D%98_%EC%9E%85%EB%A0%A5.ipynb\" target=\"_parent\"><img src=\"https://colab.research.google.com/assets/colab-badge.svg\" alt=\"Open In Colab\"/></a>"
      ]
    },
    {
      "cell_type": "markdown",
      "source": [
        "# **1. input 함수**"
      ],
      "metadata": {
        "id": "eIzku_cTamjQ"
      }
    },
    {
      "cell_type": "markdown",
      "source": [
        "* 사용자에게 데이터를 입력받을 수 있는 함수\n",
        "* 데이터를 문자형으로 입력"
      ],
      "metadata": {
        "id": "eVVkSZvuansG"
      }
    },
    {
      "cell_type": "code",
      "execution_count": null,
      "metadata": {
        "colab": {
          "base_uri": "https://localhost:8080/"
        },
        "id": "61weA6QYWQAQ",
        "outputId": "8026bafa-68f3-46cb-c994-9023118f11bf"
      },
      "outputs": [
        {
          "output_type": "stream",
          "name": "stdout",
          "text": [
            "김사과\n",
            "김사과\n"
          ]
        }
      ],
      "source": [
        "\n",
        "name = input()\n",
        "print(name)"
      ]
    },
    {
      "cell_type": "code",
      "source": [
        "print('이름을 입력하세요 : ', end='')\n",
        "name = input()\n",
        "print('%s님 안녕하세요' %name)"
      ],
      "metadata": {
        "colab": {
          "base_uri": "https://localhost:8080/"
        },
        "id": "vqgt0nNpWtB_",
        "outputId": "a4b43801-655b-4cfc-8f25-5583731c020a"
      },
      "execution_count": null,
      "outputs": [
        {
          "output_type": "stream",
          "name": "stdout",
          "text": [
            "이름을 입력하세요 : 김사과\n",
            "김사과님 안녕하세요\n"
          ]
        }
      ]
    },
    {
      "cell_type": "code",
      "source": [
        "name = input('이름을 입력하세요 : ')\n",
        "print(name)"
      ],
      "metadata": {
        "colab": {
          "base_uri": "https://localhost:8080/"
        },
        "id": "qhC0MCoKW5R4",
        "outputId": "8057a199-dc5b-4394-fb81-7b5d5a58ec03"
      },
      "execution_count": null,
      "outputs": [
        {
          "output_type": "stream",
          "name": "stdout",
          "text": [
            "이름을 입력하세요 : 김사과\n",
            "김사과\n"
          ]
        }
      ]
    },
    {
      "cell_type": "code",
      "source": [
        "# split() : 인수로 전달된 문자를 기준으로 데이터를 나눠서 저장\n",
        "\n",
        "name, age, weight = input('이름과 나이, 몸무게를 입력하세요 : ').split(' ')\n",
        "print('{}님의 나이는{}살이며, 몸무게는 {}kg입니다.'.format(name, age, weight))"
      ],
      "metadata": {
        "colab": {
          "base_uri": "https://localhost:8080/"
        },
        "id": "XuVScpRRXBrj",
        "outputId": "d70c6905-695d-4ffb-94e0-ea7f6d0305cf"
      },
      "execution_count": null,
      "outputs": [
        {
          "output_type": "stream",
          "name": "stdout",
          "text": [
            "이름과 나이, 몸무게를 입력하세요 : 김사과 20 50.5\n",
            "김사과님의 나이는20살이며, 몸무게는 50.5kg입니다.\n"
          ]
        }
      ]
    },
    {
      "cell_type": "code",
      "source": [
        "name, age, weight = input('이름과 나이, 몸무게를 입력하세요 : ').split('❤️')\n",
        "print('{}님의 나이는{}살이며, 몸무게는 {}kg입니다.'.format(name, age, weight))"
      ],
      "metadata": {
        "colab": {
          "base_uri": "https://localhost:8080/"
        },
        "id": "Zq9TiR_YXeiY",
        "outputId": "1aefa923-b324-4bc9-df0d-ec96a41c3f60"
      },
      "execution_count": null,
      "outputs": [
        {
          "output_type": "stream",
          "name": "stdout",
          "text": [
            "이름과 나이, 몸무게를 입력하세요 : 김사과❤️20❤️50.5\n",
            "김사과님의 나이는20살이며, 몸무게는 50.5kg입니다.\n"
          ]
        }
      ]
    },
    {
      "cell_type": "code",
      "source": [
        "# 국어, 영어, 수학 점수를 입력받아 총점, 평균을 구하는 프로그램\n",
        "\n",
        "kor, eng, math = input('국어,영어,수학점수를 입력하세요 : ').split(',')\n",
        "print('총점 : ', kor + eng + math)\n",
        "print(type(kor), type(eng), type(math))\n",
        "\n",
        "# int() : 문자열을 정수타입으로 변환\n",
        "# float() : 문자열을 실수타입으로 변환\n",
        "# str() : 모든 자료형을 문자타입으로 변환\n",
        "\n",
        "print('총점 : ', int(kor) + int(eng) + int(math))\n",
        "\n",
        "tot = int(kor) + int(eng) + int(math)\n",
        "avg = tot / 3\n",
        "print('총점 : ', tot)\n",
        "print('평균 : ', avg)"
      ],
      "metadata": {
        "colab": {
          "base_uri": "https://localhost:8080/"
        },
        "id": "KE_93bglX0ts",
        "outputId": "5139f891-f1c4-4ab3-e167-3cfcdedccac2"
      },
      "execution_count": null,
      "outputs": [
        {
          "output_type": "stream",
          "name": "stdout",
          "text": [
            "국어,영어,수학점수를 입력하세요 : 80,90,40\n",
            "총점 :  809040\n",
            "<class 'str'> <class 'str'> <class 'str'>\n",
            "총점 :  210\n",
            "총점 :  210\n",
            "평균 :  70.0\n"
          ]
        }
      ]
    },
    {
      "cell_type": "markdown",
      "source": [
        "# **2. map 함수**"
      ],
      "metadata": {
        "id": "mDew3uSXaqWm"
      }
    },
    {
      "cell_type": "markdown",
      "source": [
        "* 미리 타입을 지정하여 입력받는 함수"
      ],
      "metadata": {
        "id": "SvhZVVUsarUU"
      }
    },
    {
      "cell_type": "code",
      "source": [
        "\n",
        "kor, eng, math = map(int, input('국어,영어,수학점수를 입력하세요 : ').split(','))\n",
        "print('총점 : ', kor + eng + math)"
      ],
      "metadata": {
        "colab": {
          "base_uri": "https://localhost:8080/"
        },
        "id": "pMi0FDTBeFon",
        "outputId": "91da3c4b-f29a-4628-c5b7-aa096f0478dc"
      },
      "execution_count": null,
      "outputs": [
        {
          "output_type": "stream",
          "name": "stdout",
          "text": [
            "국어,영어,수학점수를 입력하세요 : 90,70,60\n",
            "총점 :  220\n"
          ]
        }
      ]
    }
  ]
}