{
  "nbformat": 4,
  "nbformat_minor": 0,
  "metadata": {
    "colab": {
      "provenance": [],
      "authorship_tag": "ABX9TyNZWUQZ/qdOPMR27c38BWvA",
      "include_colab_link": true
    },
    "kernelspec": {
      "name": "python3",
      "display_name": "Python 3"
    },
    "language_info": {
      "name": "python"
    }
  },
  "cells": [
    {
      "cell_type": "markdown",
      "metadata": {
        "id": "view-in-github",
        "colab_type": "text"
      },
      "source": [
        "<a href=\"https://colab.research.google.com/github/KimJunGu9/1.python/blob/main/5_%EB%AC%B8%EC%9E%90%EC%97%B4_%EB%8B%A4%EB%A3%A8%EA%B8%B0.ipynb\" target=\"_parent\"><img src=\"https://colab.research.google.com/assets/colab-badge.svg\" alt=\"Open In Colab\"/></a>"
      ]
    },
    {
      "cell_type": "code",
      "execution_count": null,
      "metadata": {
        "colab": {
          "base_uri": "https://localhost:8080/"
        },
        "id": "prvUV7C9eqhw",
        "outputId": "7ef56c2b-8a6b-44ef-c34d-54a790e5c2e2"
      },
      "outputs": [
        {
          "output_type": "stream",
          "name": "stdout",
          "text": [
            "오늘은 파이썬 2번째 시간입니다.\n",
            "오늘은 파이썬 2번째 시간입니다.\n",
            "오늘은\n",
            "불금이라\n",
            "출석률이\n",
            "안좋네요\n",
            "\n"
          ]
        }
      ],
      "source": [
        "str1 = '오늘은 파이썬 2번째 시간입니다.'\n",
        "str2 = '오늘은 파이썬 2번째 시간입니다.'\n",
        "str3 = '''오늘은\n",
        "불금이라\n",
        "출석률이\n",
        "안좋네요\n",
        "'''\n",
        "\n",
        "print(str1)\n",
        "print(str2)\n",
        "print(str3)"
      ]
    },
    {
      "cell_type": "markdown",
      "source": [
        "# **2. 문자열 인덱싱**"
      ],
      "metadata": {
        "id": "Q9J5Nc2EWe4z"
      }
    },
    {
      "cell_type": "code",
      "source": [
        "\n",
        "str = '토트넘은 13일 오전 3시 45분(한국시간) 영국 런던의 토트넘 홋스퍼 스타디움에서 열린 2021~2022 잉글랜드 프리미어리그(EPL) 22라운드 순연경기 아스날과의 북런던 더비에서 3-0 완승을 거뒀다.'\n",
        "print(str)"
      ],
      "metadata": {
        "colab": {
          "base_uri": "https://localhost:8080/"
        },
        "id": "aBSc3R7cfBKr",
        "outputId": "9bc2ef22-d363-4681-d970-499d1af78bda"
      },
      "execution_count": null,
      "outputs": [
        {
          "output_type": "stream",
          "name": "stdout",
          "text": [
            "토트넘은 13일 오전 3시 45분(한국시간) 영국 런던의 토트넘 홋스퍼 스타디움에서 열린 2021~2022 잉글랜드 프리미어리그(EPL) 22라운드 순연경기 아스날과의 북런던 더비에서 3-0 완승을 거뒀다.\n"
          ]
        }
      ]
    },
    {
      "cell_type": "code",
      "source": [
        "print(str[0]) # 토\n",
        "print(str[1]) # 트\n",
        "print(str[20]) # 국\n",
        "print(str[-1]) # . (마지막 문자)\n",
        "print(str[-2]) # 다\n"
      ],
      "metadata": {
        "colab": {
          "base_uri": "https://localhost:8080/"
        },
        "id": "81EyDKE5kBa2",
        "outputId": "fb58c93a-062f-4ed5-f80c-25df0dd2f924"
      },
      "execution_count": null,
      "outputs": [
        {
          "output_type": "stream",
          "name": "stdout",
          "text": [
            "토\n",
            "트\n",
            "국\n",
            ".\n",
            "다\n"
          ]
        }
      ]
    },
    {
      "cell_type": "markdown",
      "source": [
        "# **3. 문자열 슬라이싱**"
      ],
      "metadata": {
        "id": "3S1FRjrFWg3T"
      }
    },
    {
      "cell_type": "code",
      "source": [
        "\n",
        "str = '토트넘은 13일 오전 3시 45분(한국시간) 영국 런던의 토트넘 홋스퍼 스타디움에서 열린 2021~2022 잉글랜드 프리미어리그(EPL) 22라운드 순연경기 아스날과의 북런던 더비에서 3-0 완승을 거뒀다.'\n",
        "print(str[0:8]) # 인덱스 0부터 8 이전까지 문자열\n",
        "print(str[12:24])\n",
        "print(str[22:]) # 인덱스 22부터 끝까지 문자열\n",
        "print(str[:21]) # 인덱스 0부터 21직전까지 문자열"
      ],
      "metadata": {
        "colab": {
          "base_uri": "https://localhost:8080/"
        },
        "id": "yQaNJIt_kf2G",
        "outputId": "67a3c6ef-3f35-4ef2-8f42-d1ab5c9f6b03"
      },
      "execution_count": null,
      "outputs": [
        {
          "output_type": "stream",
          "name": "stdout",
          "text": [
            "토트넘은 13일\n",
            "3시 45분(한국시간)\n",
            "간) 영국 런던의 토트넘 홋스퍼 스타디움에서 열린 2021~2022 잉글랜드 프리미어리그(EPL) 22라운드 순연경기 아스날과의 북런던 더비에서 3-0 완승을 거뒀다.\n",
            "토트넘은 13일 오전 3시 45분(한국\n"
          ]
        }
      ]
    },
    {
      "cell_type": "markdown",
      "source": [
        "# **4. 문자열 함수**"
      ],
      "metadata": {
        "id": "Iz0_S4YFWjfo"
      }
    },
    {
      "cell_type": "code",
      "source": [
        "\n",
        "# len() : 인수로 입력된 문자열의 개수를 리턴\n",
        "\n",
        "str = '토트넘은 13일 오전 3시 45분(한국시간) 영국 런던의 토트넘 홋스퍼 스타디움에서 열린 2021~2022 잉글랜드 프리미어리그(EPL) 22라운드 순연경기 아스날과의 북런던 더비에서 3-0 완승을 거뒀다.'\n",
        "print(len(str))\n",
        "\n",
        "\n",
        "# count() : 문자열에서 인수로 입력된 문자열의 출현 횟수를 리턴\n",
        "print(str.count('이'))  # str 객체 안에 있으므로 .count()를 사용하고(str의 기능이다.), len()은 표준함수(파이썬이 돌아가면 공짜로 사용할 수 있음)이다.\n",
        "print(str.count('토트넘'))\n",
        "\n",
        "\n",
        "# find() : 인수로 입력된 문자열이 처음 나오는 위치를 인덱스로 리턴\n",
        "print(str.find('이')) # 없으면 -1\n",
        "print(str.find('에'))\n",
        "\n",
        "\n",
        "# index() : 인수로 입력된 문자열이 처음 나오는 위치를 인덱스로 리턴\n",
        "# print(str.index('이')) # 없으면 에러  ValueError: substring not found\n",
        "\n",
        "\n",
        "# replace() : 문자열을 치환\n",
        "print(str.replace('토트넘', '바나나'))\n",
        "\n",
        "\n",
        "# upper() : 대문자로 변환\n",
        "# lower() : 소문자로 변환\n",
        "print(str.lower())"
      ],
      "metadata": {
        "colab": {
          "base_uri": "https://localhost:8080/"
        },
        "id": "d8Fn5T5IlF7y",
        "outputId": "3f9555e7-b143-4bd6-919c-034978d9bef1"
      },
      "execution_count": null,
      "outputs": [
        {
          "output_type": "stream",
          "name": "stdout",
          "text": [
            "115\n",
            "0\n",
            "2\n",
            "-1\n",
            "44\n",
            "바나나은 13일 오전 3시 45분(한국시간) 영국 런던의 바나나 홋스퍼 스타디움에서 열린 2021~2022 잉글랜드 프리미어리그(EPL) 22라운드 순연경기 아스날과의 북런던 더비에서 3-0 완승을 거뒀다.\n",
            "토트넘은 13일 오전 3시 45분(한국시간) 영국 런던의 토트넘 홋스퍼 스타디움에서 열린 2021~2022 잉글랜드 프리미어리그(epl) 22라운드 순연경기 아스날과의 북런던 더비에서 3-0 완승을 거뒀다.\n"
          ]
        }
      ]
    },
    {
      "cell_type": "code",
      "source": [
        "str = '          Hello          Python           '\n",
        "print(str)"
      ],
      "metadata": {
        "colab": {
          "base_uri": "https://localhost:8080/"
        },
        "id": "WKA-CB91m96d",
        "outputId": "48f20fbc-f430-4916-b10f-7c46ab04e219"
      },
      "execution_count": null,
      "outputs": [
        {
          "output_type": "stream",
          "name": "stdout",
          "text": [
            "          Hello          Python           \n"
          ]
        }
      ]
    },
    {
      "cell_type": "code",
      "source": [
        "# lstrip() : 문자열 왼쪽 공백을 제거 ( 엘 스트립 ) ㅣ :left\n",
        "print(str.lstrip())\n",
        "\n",
        "\n",
        "# rstrip() : 문자열 오른쪽 공백을 제거 ( 알 스트립 ) r : right\n",
        "print(str.rstrip())\n",
        "\n",
        "\n",
        "# strip() : 문자열 양쪽 공백을 제거\n",
        "print(str.strip())\n"
      ],
      "metadata": {
        "colab": {
          "base_uri": "https://localhost:8080/"
        },
        "id": "D2agO_tNoKIb",
        "outputId": "58b396c4-3c29-4c85-f801-c323668b43bd"
      },
      "execution_count": null,
      "outputs": [
        {
          "output_type": "stream",
          "name": "stdout",
          "text": [
            "Hello          Python           \n",
            "          Hello          Python\n",
            "Hello          Python\n"
          ]
        }
      ]
    },
    {
      "cell_type": "code",
      "source": [
        "# join() : 문자열에 특정 문자열을 삽입\n",
        "str = 'Python'\n",
        "print('❤️'.join(str))"
      ],
      "metadata": {
        "colab": {
          "base_uri": "https://localhost:8080/"
        },
        "id": "WDSxL_PLodZ5",
        "outputId": "9817bce2-3850-4803-e535-91a88bfe71d1"
      },
      "execution_count": null,
      "outputs": [
        {
          "output_type": "stream",
          "name": "stdout",
          "text": [
            "P❤️y❤️t❤️h❤️o❤️n\n"
          ]
        }
      ]
    }
  ]
}