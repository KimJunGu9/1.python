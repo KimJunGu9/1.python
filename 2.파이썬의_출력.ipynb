{
  "nbformat": 4,
  "nbformat_minor": 0,
  "metadata": {
    "colab": {
      "provenance": [],
      "authorship_tag": "ABX9TyOsaI4tpCO1GIhLYlnN52Y6",
      "include_colab_link": true
    },
    "kernelspec": {
      "name": "python3",
      "display_name": "Python 3"
    },
    "language_info": {
      "name": "python"
    }
  },
  "cells": [
    {
      "cell_type": "markdown",
      "metadata": {
        "id": "view-in-github",
        "colab_type": "text"
      },
      "source": [
        "<a href=\"https://colab.research.google.com/github/KimJunGu9/python/blob/main/2.%ED%8C%8C%EC%9D%B4%EC%8D%AC%EC%9D%98_%EC%B6%9C%EB%A0%A5.ipynb\" target=\"_parent\"><img src=\"https://colab.research.google.com/assets/colab-badge.svg\" alt=\"Open In Colab\"/></a>"
      ]
    },
    {
      "cell_type": "markdown",
      "source": [
        "# **1. print 함수**"
      ],
      "metadata": {
        "id": "qjexLLApCIUl"
      }
    },
    {
      "cell_type": "markdown",
      "source": [
        "* 매개변수로 지정된 데이터를 출력하고 줄을 바꿈"
      ],
      "metadata": {
        "id": "zz7ynatdCJol"
      }
    },
    {
      "cell_type": "code",
      "source": [
        "print('안녕하세요. 파이썬!')\n",
        "print('안녕하세요. 여러분!')\n",
        "print(10)"
      ],
      "metadata": {
        "colab": {
          "base_uri": "https://localhost:8080/"
        },
        "id": "-kvpBHU0CUU0",
        "outputId": "17410a00-4242-4fc1-b972-7edc9e80ba79"
      },
      "execution_count": null,
      "outputs": [
        {
          "output_type": "stream",
          "name": "stdout",
          "text": [
            "안녕하세요. 파이썬!\n",
            "안녕하세요. 여러분!\n",
            "10\n"
          ]
        }
      ]
    },
    {
      "cell_type": "code",
      "source": [
        "'''\n",
        "여기는 여러줄을 주석으로 처리합니다.\n",
        "따라서 프로그램에 영향을 주지 않습니다.\n",
        "'''\n",
        "print('Python') # 문자 출력은 따옴표를 사용('' 또는 \"\")"
      ],
      "metadata": {
        "colab": {
          "base_uri": "https://localhost:8080/"
        },
        "id": "iWah2RjQCVSN",
        "outputId": "d9af6fa9-76f0-4bd2-e4b3-e96c513bab29"
      },
      "execution_count": null,
      "outputs": [
        {
          "output_type": "stream",
          "name": "stdout",
          "text": [
            "Python\n"
          ]
        }
      ]
    },
    {
      "cell_type": "code",
      "source": [
        "print('Hello', 'Python')\n",
        "print('Hello', 'Python', 'Hi', 'Python')\n",
        "print('Hello', end='') # end : 출력 후 어떻게 처리할지 여부에 대한 옵션\n",
        "print('Python')\n",
        "print('Hello', end=' ')\n",
        "print('Python')\n",
        "print('Hello', end=',')\n",
        "print('Python')"
      ],
      "metadata": {
        "colab": {
          "base_uri": "https://localhost:8080/"
        },
        "id": "gbPSUe_4CWbe",
        "outputId": "a2fd5a1e-593d-4a49-a48f-6f33bac8c810"
      },
      "execution_count": null,
      "outputs": [
        {
          "output_type": "stream",
          "name": "stdout",
          "text": [
            "Hello Python\n",
            "Hello Python Hi Python\n",
            "HelloPython\n",
            "Hello Python\n",
            "Hello,Python\n"
          ]
        }
      ]
    },
    {
      "cell_type": "code",
      "source": [
        "print(10 + 5) # 덧셈\n",
        "print(10 - 5) # 뺄셈\n",
        "print('10 + 5') # 문자\n",
        "print('10') # 문자\n",
        "# print('10' + 5) # TypeError: can only concatenate str (not \"int\") to str"
      ],
      "metadata": {
        "colab": {
          "base_uri": "https://localhost:8080/"
        },
        "id": "5fMTDUNrCXmX",
        "outputId": "c84933df-b1ab-4c9f-cf6a-26f16345b3ac"
      },
      "execution_count": null,
      "outputs": [
        {
          "output_type": "stream",
          "name": "stdout",
          "text": [
            "15\n",
            "5\n",
            "10 + 5\n",
            "10\n"
          ]
        }
      ]
    },
    {
      "cell_type": "markdown",
      "source": [
        "# **2. 출력 서식 지정하기**"
      ],
      "metadata": {
        "id": "yQYbOFBXCYg5"
      }
    },
    {
      "cell_type": "markdown",
      "source": [
        "1. %d(정수), %f(실수), %s(문자열)를 사용하여 출력 서식을 지정\n",
        "2. 서식을 제외한 문자는 입력한 그대로 출력\n",
        "3. 서식을 지정해 출력할 데이터가 2개 이상일 경우 ()로 데이터를 묶어야 함"
      ],
      "metadata": {
        "id": "QTPp18ZkCZ92"
      }
    },
    {
      "cell_type": "code",
      "source": [
        "print('%d' %100)\n",
        "print('%d' %100.12)\n",
        "\n",
        "print('%f' %100.12)\n",
        "\n",
        "print('%s' %'python')\n",
        "print('%s' %100)\n",
        "\n",
        "print('%d + %d = %d' %(5,3,5+3))"
      ],
      "metadata": {
        "colab": {
          "base_uri": "https://localhost:8080/"
        },
        "id": "Kr4EodUqLBJf",
        "outputId": "34cbc870-d7c5-46ef-e004-49f54c98a6fd"
      },
      "execution_count": null,
      "outputs": [
        {
          "output_type": "stream",
          "name": "stdout",
          "text": [
            "100\n",
            "100\n",
            "100.120000\n",
            "python\n",
            "100\n",
            "5 + 3 = 8\n"
          ]
        }
      ]
    },
    {
      "cell_type": "code",
      "source": [
        "print('%5d' %100)\n",
        "print('%5d' %10000)\n",
        "\n",
        "print('%05d' %100)"
      ],
      "metadata": {
        "colab": {
          "base_uri": "https://localhost:8080/"
        },
        "id": "_vycF_VhLoLI",
        "outputId": "187cf311-4808-404d-cd44-e9d0d2fc69b1"
      },
      "execution_count": null,
      "outputs": [
        {
          "output_type": "stream",
          "name": "stdout",
          "text": [
            "  100\n",
            "10000\n",
            "00100\n"
          ]
        }
      ]
    },
    {
      "cell_type": "code",
      "source": [
        "print('%6.2f' %123.45) # 6 : 6z칸 , 2 : 소숫점 2자리까지\n",
        "print('%6.2f' %123.4567)  # 반올림\n",
        "print('%6.2f' %123.4)   # 남은 자리는 0으로 채움"
      ],
      "metadata": {
        "colab": {
          "base_uri": "https://localhost:8080/"
        },
        "id": "3n6moVetLzS-",
        "outputId": "eb5f9e1d-4359-48bb-86ee-4dd67eca7ee5"
      },
      "execution_count": null,
      "outputs": [
        {
          "output_type": "stream",
          "name": "stdout",
          "text": [
            "123.45\n",
            "123.46\n",
            "123.40\n"
          ]
        }
      ]
    },
    {
      "cell_type": "code",
      "source": [
        "print('%5s' %'abc')"
      ],
      "metadata": {
        "colab": {
          "base_uri": "https://localhost:8080/"
        },
        "id": "1Qku2dyfMDjG",
        "outputId": "e3c824da-be13-4c96-d420-323087836e7b"
      },
      "execution_count": null,
      "outputs": [
        {
          "output_type": "stream",
          "name": "stdout",
          "text": [
            "  abc\n"
          ]
        }
      ]
    },
    {
      "cell_type": "code",
      "source": [
        "# 5 / 3 = ?\n",
        "\n",
        "print('%d / %d = %d' %(5, 3, 5/3))  # 결과를 %d로 출력하면 정수로 출력\n",
        "print('%d / %d = %f' %(5, 3, 5/3))  # 결과를 %f로 출력하면 정수로 출력"
      ],
      "metadata": {
        "colab": {
          "base_uri": "https://localhost:8080/"
        },
        "id": "FxLPBEhDN1P-",
        "outputId": "6a58ec05-05ae-46cc-f7e8-8bbe82e69bae"
      },
      "execution_count": null,
      "outputs": [
        {
          "output_type": "stream",
          "name": "stdout",
          "text": [
            "5 / 3 = 1\n",
            "5 / 3 = 1.666667\n"
          ]
        }
      ]
    },
    {
      "cell_type": "markdown",
      "source": [
        "# **3. format 함수와 출력 인덱스 사용**"
      ],
      "metadata": {
        "id": "BMhHiIleCdOg"
      }
    },
    {
      "cell_type": "code",
      "source": [
        "# 인덱스 : 0부터 순서대로 진행되는 정수\n",
        "\n",
        "print('{0} {1}'. format('김사과', '반하나'))\n",
        "print('{1} {0}'. format('김사과', '반하나'))"
      ],
      "metadata": {
        "colab": {
          "base_uri": "https://localhost:8080/"
        },
        "id": "-zQjmcLAOMNy",
        "outputId": "56ca67bd-0fe5-4040-eb81-da146d997a69"
      },
      "execution_count": null,
      "outputs": [
        {
          "output_type": "stream",
          "name": "stdout",
          "text": [
            "김사과 반하나\n",
            "반하나 김사과\n"
          ]
        }
      ]
    },
    {
      "cell_type": "code",
      "source": [
        "print('{0:3s}님은 {1:03d}살입니다.' .format('김사과',20))\n",
        "print('{0}님의 키는 {1:6.2f}cm입니다.' .format('류정원', 182.5))"
      ],
      "metadata": {
        "colab": {
          "base_uri": "https://localhost:8080/"
        },
        "id": "1czQQDLTO9tD",
        "outputId": "a770ff57-4471-49dd-c110-3b4a4136554f"
      },
      "execution_count": null,
      "outputs": [
        {
          "output_type": "stream",
          "name": "stdout",
          "text": [
            "김사과님은 020살입니다.\n",
            "류정원님의 키는 182.50cm입니다.\n"
          ]
        }
      ]
    }
  ]
}