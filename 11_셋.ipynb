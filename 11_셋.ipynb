{
  "nbformat": 4,
  "nbformat_minor": 0,
  "metadata": {
    "colab": {
      "provenance": [],
      "authorship_tag": "ABX9TyNGawuXKbD/EJHp8nR+5xhp",
      "include_colab_link": true
    },
    "kernelspec": {
      "name": "python3",
      "display_name": "Python 3"
    },
    "language_info": {
      "name": "python"
    }
  },
  "cells": [
    {
      "cell_type": "markdown",
      "metadata": {
        "id": "view-in-github",
        "colab_type": "text"
      },
      "source": [
        "<a href=\"https://colab.research.google.com/github/KimJunGu9/1.python/blob/main/11_%EC%85%8B.ipynb\" target=\"_parent\"><img src=\"https://colab.research.google.com/assets/colab-badge.svg\" alt=\"Open In Colab\"/></a>"
      ]
    },
    {
      "cell_type": "markdown",
      "source": [
        "# **1. Set**"
      ],
      "metadata": {
        "id": "YqK2znWe4Ued"
      }
    },
    {
      "cell_type": "markdown",
      "source": [
        "* 수학의 집합과 비슷한 형태로 순서가 없기 때문에 어떤 값이 먼저 나올지 알 수 없고, 중복되는 데이터를 허용하지 않음\n",
        "* 딕셔너리처럼 중괄호를 사용해서 선언하지만 key는 존재하지 않고 value만 존재"
      ],
      "metadata": {
        "id": "kADnXpoT4V2J"
      }
    },
    {
      "cell_type": "markdown",
      "source": [
        "### **1-1. set 만들기**"
      ],
      "metadata": {
        "id": "sAqU98yC4W4f"
      }
    },
    {
      "cell_type": "code",
      "source": [
        "\n",
        "s1 = set()\n",
        "print(s1)\n",
        "\n",
        "s2 = set([1,3,7,9]) # 셋 함수에 넣을때는 리스트 구조로 넣는다.\n",
        "print(s2) # 순서가 정해져있지 않다.\n",
        "\n",
        "s3 = {1,3,5,7} # 중괄호를 통해서 넣을 수 있다.\n",
        "print(s3)\n",
        "\n",
        "s4 = {1,3,3,5,7,5,3,9} # 중복된 값은 출력될때 한개만 나온다.\n",
        "print(s4)"
      ],
      "metadata": {
        "colab": {
          "base_uri": "https://localhost:8080/"
        },
        "id": "umdEsS9Yqc_k",
        "outputId": "17139914-8cda-4b78-b8c1-1302b6b4a501"
      },
      "execution_count": null,
      "outputs": [
        {
          "output_type": "stream",
          "name": "stdout",
          "text": [
            "set()\n",
            "{1, 3, 9, 7}\n",
            "{1, 3, 5, 7}\n",
            "{1, 3, 5, 7, 9}\n"
          ]
        }
      ]
    },
    {
      "cell_type": "code",
      "source": [
        "print(2 in s4)\n",
        "print(5 in s4)\n",
        "print(3 not in s4)"
      ],
      "metadata": {
        "colab": {
          "base_uri": "https://localhost:8080/"
        },
        "id": "D3iISvZnq-9-",
        "outputId": "361e67d0-d380-4287-8ea5-51575fd3bd24"
      },
      "execution_count": null,
      "outputs": [
        {
          "output_type": "stream",
          "name": "stdout",
          "text": [
            "False\n",
            "True\n",
            "False\n"
          ]
        }
      ]
    },
    {
      "cell_type": "markdown",
      "source": [
        "### **1-2. set 함수**"
      ],
      "metadata": {
        "id": "CR01OM1l4Yvh"
      }
    },
    {
      "cell_type": "code",
      "source": [
        "\n",
        "# add() : set에 단일 데이터를 추가\n",
        "s1 = {100, 200}\n",
        "s1.add(150) # 순서를 보장하지 않음\n",
        "print(s1)\n",
        "s1.add(20)\n",
        "print(s1)\n",
        "print()\n",
        "\n",
        "# update() : set에 여러 데이터를 한번에 추가\n",
        "s2 = {10,20,30}\n",
        "s2.update([40,50,60])\n",
        "print(s2)\n",
        "print()\n",
        "\n",
        "# remove() : set의 데이터를 제거. 제거할 데이터가 없으면 에러\n",
        "s2.remove(50)\n",
        "print(s2)\n",
        "# s2.remove(50) # KeyError: 50\n",
        "print()\n",
        "\n",
        "# discard() : set의 데이터를 제거. 제거할 데이터가 없으면 에러가 발생하지 않음\n",
        "s2.discard(30)\n",
        "print(s2)\n",
        "s2.discard(30)\n",
        "print(s2)\n",
        "print()\n",
        "\n",
        "# copy() : set을 복사\n",
        "s3 = {10,20,30}\n",
        "s4 = s3.copy()\n",
        "print(s3)\n",
        "print(s4)\n"
      ],
      "metadata": {
        "colab": {
          "base_uri": "https://localhost:8080/"
        },
        "id": "IgT3hlsG1f4p",
        "outputId": "3b1a27b7-3f5c-4c40-cda4-7d0b08f8941d"
      },
      "execution_count": null,
      "outputs": [
        {
          "output_type": "stream",
          "name": "stdout",
          "text": [
            "{200, 100, 150}\n",
            "{200, 100, 20, 150}\n",
            "\n",
            "{40, 10, 50, 20, 60, 30}\n",
            "\n",
            "{40, 10, 20, 60, 30}\n",
            "\n",
            "{40, 10, 20, 60}\n",
            "{40, 10, 20, 60}\n",
            "\n",
            "{10, 20, 30}\n",
            "{10, 20, 30}\n"
          ]
        }
      ]
    },
    {
      "cell_type": "markdown",
      "source": [
        "### **1-3. set 연산자**"
      ],
      "metadata": {
        "id": "ZMfNXJdY4a-F"
      }
    },
    {
      "cell_type": "code",
      "source": [
        "\n",
        "s1 = {10,20,30,40,50}\n",
        "s2 = {30,40,50,60,70}\n",
        "\n",
        "# 합집합(union) : |\n",
        "result = s1 | s2\n",
        "print(result)\n",
        "result = s1.union(s2)\n",
        "print(result)\n",
        "print()\n",
        "\n",
        "# 교집합(intersection) : &\n",
        "result = s1 & s2\n",
        "print(result)\n",
        "result = s1.intersection(s2)\n",
        "print(result)\n",
        "print()\n",
        "\n",
        "# 차집합(difference) : -\n",
        "result = s1 - s2\n",
        "print(result)\n",
        "result =  s1.difference(s2)\n",
        "print(result)\n",
        "print()\n",
        "\n",
        "# 대칭 차집합(symmetric_difference) : ^\n",
        "result = s1 ^ s2\n",
        "print(result)\n",
        "ersult = s1.symmetric_difference(s2)\n",
        "print(result)\n",
        "print()\n",
        "\n"
      ],
      "metadata": {
        "colab": {
          "base_uri": "https://localhost:8080/"
        },
        "id": "u8Pp7rvJ2ySU",
        "outputId": "d11524b7-d8ce-4189-f722-dfa6712dfb9d"
      },
      "execution_count": null,
      "outputs": [
        {
          "output_type": "stream",
          "name": "stdout",
          "text": [
            "{70, 40, 10, 50, 20, 60, 30}\n",
            "{70, 40, 10, 50, 20, 60, 30}\n",
            "\n",
            "{40, 50, 30}\n",
            "{40, 50, 30}\n",
            "\n",
            "{10, 20}\n",
            "{10, 20}\n",
            "\n",
            "{20, 70, 10, 60}\n",
            "{20, 70, 10, 60}\n",
            "\n"
          ]
        }
      ]
    }
  ]
}