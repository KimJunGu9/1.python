{
  "nbformat": 4,
  "nbformat_minor": 0,
  "metadata": {
    "colab": {
      "provenance": [],
      "authorship_tag": "ABX9TyOIk22pksUu7ZuOQ73szvGE",
      "include_colab_link": true
    },
    "kernelspec": {
      "name": "python3",
      "display_name": "Python 3"
    },
    "language_info": {
      "name": "python"
    }
  },
  "cells": [
    {
      "cell_type": "markdown",
      "metadata": {
        "id": "view-in-github",
        "colab_type": "text"
      },
      "source": [
        "<a href=\"https://colab.research.google.com/github/KimJunGu9/1.python/blob/main/7_%ED%8A%9C%ED%94%8C.ipynb\" target=\"_parent\"><img src=\"https://colab.research.google.com/assets/colab-badge.svg\" alt=\"Open In Colab\"/></a>"
      ]
    },
    {
      "cell_type": "markdown",
      "source": [
        "# **1. 튜플(Tuple)**"
      ],
      "metadata": {
        "id": "tup2HFFFxMdH"
      }
    },
    {
      "cell_type": "markdown",
      "source": [
        "* 리스트와 비슷하지만 리스트는 []로 자료를 감싸고, 튜플은 ()로 감쌈\n",
        "* 수정, 삭제가 불가능"
      ],
      "metadata": {
        "id": "tWgX8nlCxNpN"
      }
    },
    {
      "cell_type": "code",
      "execution_count": null,
      "metadata": {
        "colab": {
          "base_uri": "https://localhost:8080/"
        },
        "id": "PyNEQ-64Yfxp",
        "outputId": "b9b94389-84f4-46e8-b1cf-5543c14bbccf"
      },
      "outputs": [
        {
          "output_type": "stream",
          "name": "stdout",
          "text": [
            "()\n",
            "1\n",
            "(1, 2, 3)\n",
            "('apple', 'banana', ('❤️', '😍'))\n"
          ]
        }
      ],
      "source": [
        "\n",
        "tu1 = ()\n",
        "print(tu1)\n",
        "\n",
        "# tu1[0] = 10   #TypeError: 'tuple' object does not support item assignment\n",
        "\n",
        "tu2 = (1)\n",
        "print(tu2)\n",
        "\n",
        "tu3 = 1,2,3\n",
        "print(tu3)\n",
        "\n",
        "tu4 = ('apple','banana',('❤️','😍'))\n",
        "print(tu4)"
      ]
    },
    {
      "cell_type": "code",
      "source": [
        "print(type(tu4))"
      ],
      "metadata": {
        "colab": {
          "base_uri": "https://localhost:8080/"
        },
        "id": "Xp4R-TfdZOgi",
        "outputId": "d931e41c-61be-43e2-fc89-e934ac906349"
      },
      "execution_count": null,
      "outputs": [
        {
          "output_type": "stream",
          "name": "stdout",
          "text": [
            "<class 'tuple'>\n"
          ]
        }
      ]
    },
    {
      "cell_type": "markdown",
      "source": [
        "# **2. 튜플의 수정 및 삭제**"
      ],
      "metadata": {
        "id": "N-qr7PZoxPxp"
      }
    },
    {
      "cell_type": "code",
      "source": [
        "\n",
        "tu5 = (1,2,'apple','banana')\n",
        "print(tu5)\n",
        "\n",
        "# tu5[3] ='orange' # TypeError: 'tuple' object does not support item assignment\n",
        "\n",
        "# del tu5[3] # TypeError: 'tuple' object doesn't support item deletion\n",
        "\n",
        "\n",
        "tu5 = 10\n",
        "print(tu5)"
      ],
      "metadata": {
        "colab": {
          "base_uri": "https://localhost:8080/"
        },
        "id": "K1trKe9GZTBo",
        "outputId": "87c16e37-3a26-41c7-e12a-7a8dbbbb5903"
      },
      "execution_count": null,
      "outputs": [
        {
          "output_type": "stream",
          "name": "stdout",
          "text": [
            "(1, 2, 'apple', 'banana')\n",
            "10\n"
          ]
        }
      ]
    },
    {
      "cell_type": "markdown",
      "source": [
        "# **3. 튜플의 인덱싱과 슬라이싱 연산**"
      ],
      "metadata": {
        "id": "-OzoeQAQxSCA"
      }
    },
    {
      "cell_type": "code",
      "source": [
        "\n",
        "tu7 = (1,2,'apple','banana')\n",
        "\n",
        "# 인덱싱\n",
        "print(tu7[0])\n",
        "print(tu7[-1])\n",
        "\n",
        "# 슬라이싱\n",
        "print(tu7[1:])\n",
        "print(tu7[1:3])\n",
        "\n",
        "# 덧셈(연결)\n",
        "tu8 = (30,40)\n",
        "print(tu7 + tu8)\n",
        "\n",
        "# 곱셈(반복)\n",
        "print(tu8 * 3)\n",
        "\n",
        "# 요소의 개수\n",
        "print(len(tu8))\n"
      ],
      "metadata": {
        "colab": {
          "base_uri": "https://localhost:8080/"
        },
        "id": "KelDnv1qaukD",
        "outputId": "821a6c15-7aba-43b8-cf17-2b823af1fca1"
      },
      "execution_count": null,
      "outputs": [
        {
          "output_type": "stream",
          "name": "stdout",
          "text": [
            "1\n",
            "banana\n",
            "(2, 'apple', 'banana')\n",
            "(2, 'apple')\n",
            "(1, 2, 'apple', 'banana', 30, 40)\n",
            "(30, 40, 30, 40, 30, 40)\n",
            "2\n"
          ]
        }
      ]
    },
    {
      "cell_type": "code",
      "source": [],
      "metadata": {
        "id": "mSBOZBvyz6CS"
      },
      "execution_count": null,
      "outputs": []
    }
  ]
}